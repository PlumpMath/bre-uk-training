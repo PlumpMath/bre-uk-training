{
 "cells": [
  {
   "cell_type": "code",
   "execution_count": 2,
   "metadata": {
    "collapsed": false
   },
   "outputs": [
    {
     "data": {
      "text/html": [
       "<div>\n",
       "<table border=\"1\" class=\"dataframe\">\n",
       "  <thead>\n",
       "    <tr style=\"text-align: right;\">\n",
       "      <th></th>\n",
       "      <th>Object</th>\n",
       "      <th>ObjectAnchor</th>\n",
       "      <th>Predicate</th>\n",
       "      <th>PredicateId</th>\n",
       "      <th>Subject</th>\n",
       "      <th>SubjectAnchor</th>\n",
       "      <th>Text</th>\n",
       "      <th>WikipediaLink</th>\n",
       "      <th>WikipediaTitle</th>\n",
       "      <th>_id</th>\n",
       "      <th>Answer</th>\n",
       "    </tr>\n",
       "  </thead>\n",
       "  <tbody>\n",
       "    <tr>\n",
       "      <th>0</th>\n",
       "      <td>Кім Чен Ір</td>\n",
       "      <td>Кім Чен Ір</td>\n",
       "      <td>батько</td>\n",
       "      <td>P22</td>\n",
       "      <td>Кім Чен Ин</td>\n",
       "      <td>Кім Чен Ин</td>\n",
       "      <td>Кім Чен Ин (нар. 1983) — син колишнього диктат...</td>\n",
       "      <td>https://uk.wikipedia.org/wiki/Кім</td>\n",
       "      <td>Кім</td>\n",
       "      <td>97e85e9c-5968-47d0-93e5-17a41114b50f</td>\n",
       "      <td>weak</td>\n",
       "    </tr>\n",
       "    <tr>\n",
       "      <th>1</th>\n",
       "      <td>Самудрагупта</td>\n",
       "      <td>Самудрагупта</td>\n",
       "      <td>батько</td>\n",
       "      <td>P22</td>\n",
       "      <td>Чандрагупта ІІ</td>\n",
       "      <td>Чандрагупта ІІ</td>\n",
       "      <td>При ЧандрагуптіІ, внукові Шрі-Гупти, що правив...</td>\n",
       "      <td>https://uk.wikipedia.org/wiki/Династія Гуптів</td>\n",
       "      <td>Династія Гуптів</td>\n",
       "      <td>613060fa-811c-463a-ab1c-712619568c66</td>\n",
       "      <td>has</td>\n",
       "    </tr>\n",
       "    <tr>\n",
       "      <th>2</th>\n",
       "      <td>Тит Флавій Петрон</td>\n",
       "      <td>Тит Флавій Петрон</td>\n",
       "      <td>батько</td>\n",
       "      <td>P22</td>\n",
       "      <td>Тит Флавій Сабін (батько Веспасіана)</td>\n",
       "      <td>Тит Флавій Сабін</td>\n",
       "      <td>Походив із середніх італійських прошарків; дід...</td>\n",
       "      <td>https://uk.wikipedia.org/wiki/Веспасіан</td>\n",
       "      <td>Веспасіан</td>\n",
       "      <td>a71ce5d2-63ea-45af-9ce7-959d3573d950</td>\n",
       "      <td>donthas</td>\n",
       "    </tr>\n",
       "    <tr>\n",
       "      <th>3</th>\n",
       "      <td>Шунь-цзун (династія Тан)</td>\n",
       "      <td>Шунь-цзуна</td>\n",
       "      <td>батько</td>\n",
       "      <td>P22</td>\n",
       "      <td>Сянь-цзун (династія Тан)</td>\n",
       "      <td>Сянь-цзун</td>\n",
       "      <td>У Китаї розпочалося коротке правління Шунь-цзу...</td>\n",
       "      <td>https://uk.wikipedia.org/wiki/805</td>\n",
       "      <td>805</td>\n",
       "      <td>8568c7e1-5e84-4541-a693-29acb5cfa056</td>\n",
       "      <td>not</td>\n",
       "    </tr>\n",
       "    <tr>\n",
       "      <th>4</th>\n",
       "      <td>Шунь-цзун (династія Тан)</td>\n",
       "      <td>Шунь-цзуна</td>\n",
       "      <td>батько</td>\n",
       "      <td>P22</td>\n",
       "      <td>Сянь-цзун (династія Тан)</td>\n",
       "      <td>Сянь-цзуна</td>\n",
       "      <td>Відомо, що працював за імператорів Шунь-цзуна ...</td>\n",
       "      <td>https://uk.wikipedia.org/wiki/Дай Сун</td>\n",
       "      <td>Дай Сун</td>\n",
       "      <td>2b8a672e-31cf-4fc8-9fd2-570e5eaf3def</td>\n",
       "      <td>weak</td>\n",
       "    </tr>\n",
       "  </tbody>\n",
       "</table>\n",
       "</div>"
      ],
      "text/plain": [
       "                     Object       ObjectAnchor Predicate PredicateId  \\\n",
       "0                Кім Чен Ір         Кім Чен Ір    батько         P22   \n",
       "1              Самудрагупта       Самудрагупта    батько         P22   \n",
       "2         Тит Флавій Петрон  Тит Флавій Петрон    батько         P22   \n",
       "3  Шунь-цзун (династія Тан)         Шунь-цзуна    батько         P22   \n",
       "4  Шунь-цзун (династія Тан)         Шунь-цзуна    батько         P22   \n",
       "\n",
       "                                Subject     SubjectAnchor  \\\n",
       "0                            Кім Чен Ин        Кім Чен Ин   \n",
       "1                        Чандрагупта ІІ    Чандрагупта ІІ   \n",
       "2  Тит Флавій Сабін (батько Веспасіана)  Тит Флавій Сабін   \n",
       "3              Сянь-цзун (династія Тан)         Сянь-цзун   \n",
       "4              Сянь-цзун (династія Тан)        Сянь-цзуна   \n",
       "\n",
       "                                                Text  \\\n",
       "0  Кім Чен Ин (нар. 1983) — син колишнього диктат...   \n",
       "1  При ЧандрагуптіІ, внукові Шрі-Гупти, що правив...   \n",
       "2  Походив із середніх італійських прошарків; дід...   \n",
       "3  У Китаї розпочалося коротке правління Шунь-цзу...   \n",
       "4  Відомо, що працював за імператорів Шунь-цзуна ...   \n",
       "\n",
       "                                   WikipediaLink   WikipediaTitle  \\\n",
       "0              https://uk.wikipedia.org/wiki/Кім              Кім   \n",
       "1  https://uk.wikipedia.org/wiki/Династія Гуптів  Династія Гуптів   \n",
       "2        https://uk.wikipedia.org/wiki/Веспасіан        Веспасіан   \n",
       "3              https://uk.wikipedia.org/wiki/805              805   \n",
       "4          https://uk.wikipedia.org/wiki/Дай Сун          Дай Сун   \n",
       "\n",
       "                                    _id   Answer  \n",
       "0  97e85e9c-5968-47d0-93e5-17a41114b50f     weak  \n",
       "1  613060fa-811c-463a-ab1c-712619568c66      has  \n",
       "2  a71ce5d2-63ea-45af-9ce7-959d3573d950  donthas  \n",
       "3  8568c7e1-5e84-4541-a693-29acb5cfa056      not  \n",
       "4  2b8a672e-31cf-4fc8-9fd2-570e5eaf3def     weak  "
      ]
     },
     "execution_count": 2,
     "metadata": {},
     "output_type": "execute_result"
    }
   ],
   "source": [
    "import pandas as pd\n",
    "r = pd.read_csv('result.csv', encoding='utf8')\n",
    "r.head()"
   ]
  },
  {
   "cell_type": "code",
   "execution_count": 97,
   "metadata": {
    "collapsed": false
   },
   "outputs": [
    {
     "data": {
      "text/plain": [
       "2234"
      ]
     },
     "execution_count": 97,
     "metadata": {},
     "output_type": "execute_result"
    }
   ],
   "source": [
    "r = r[r['Answer']!='not']\n",
    "len(r)"
   ]
  },
  {
   "cell_type": "code",
   "execution_count": 171,
   "metadata": {
    "collapsed": false
   },
   "outputs": [
    {
     "data": {
      "text/plain": [
       "has        963\n",
       "donthas    920\n",
       "weak       351\n",
       "Name: Answer, dtype: int64"
      ]
     },
     "execution_count": 171,
     "metadata": {},
     "output_type": "execute_result"
    }
   ],
   "source": [
    "r['Answer'].value_counts()"
   ]
  },
  {
   "cell_type": "code",
   "execution_count": 169,
   "metadata": {
    "collapsed": false
   },
   "outputs": [
    {
     "name": "stdout",
     "output_type": "stream",
     "text": [
      "Єдиний син надвірного коронного хорунжого Прокопа Сенявського та його дружини Анни Єфросини Ходкевич, єдиний внук Адама Єроніма Сенявського (старшого) та Катерини Сенявської.\n"
     ]
    }
   ],
   "source": [
    "row = r.iloc[1960]\n",
    "text = row['Text']\n",
    "print text"
   ]
  },
  {
   "cell_type": "code",
   "execution_count": 170,
   "metadata": {
    "collapsed": false
   },
   "outputs": [
    {
     "name": "stdout",
     "output_type": "stream",
     "text": [
      "Єдиний, син, надвірного, коронного, хорунжого Прокопа, Сенявського та, його, дружини Анни, Єфросини, Ходкевич, ,, єдиний, внук Адама, Єроніма, Сенявського, (, старшого, ), та Катерини, Сенявської, .\n"
     ]
    }
   ],
   "source": [
    "from tokenize_uk import *\n",
    "\n",
    "ttext = u'Єдиний син надвірного коронного хорунжого Прокопа Сенявського та його дружини Анни Єфросини Ходкевич, єдиний внук Адама Єроніма Сенявського (старшого) та Катерини Сенявської.'\n",
    "\n",
    "tokens = tokenize_text(text)\n",
    "#tokens = [t for tt in tokens for sentence in tt for t in sentence]\n",
    "print ', '.join(tokens[0][0])"
   ]
  },
  {
   "cell_type": "code",
   "execution_count": 151,
   "metadata": {
    "collapsed": false
   },
   "outputs": [
    {
     "name": "stdout",
     "output_type": "stream",
     "text": [
      "хорунжого Прокопа\n"
     ]
    }
   ],
   "source": [
    "print tokens[4]"
   ]
  },
  {
   "cell_type": "code",
   "execution_count": 130,
   "metadata": {
    "collapsed": false
   },
   "outputs": [
    {
     "name": "stdout",
     "output_type": "stream",
     "text": [
      "князь Володимир Великий\n"
     ]
    }
   ],
   "source": [
    "import re\n",
    "objectAnchor = row['ObjectAnchor']\n",
    "def detect_anchor(tokens, anchor):\n",
    "    found = False\n",
    "    index = 0\n",
    "    for i in range(len(tokens)):\n",
    "        token = tokens[i]\n",
    "        pattern = re.escape(anchor[index]) + u\"[а|ом|у]?\"\n",
    "        match = re.match(pattern, token, flags=re.U|re.L)\n",
    "        \n",
    "        if(found):\n",
    "            if(match is not None):\n",
    "                index += 1\n",
    "            else:\n",
    "                index = 0\n",
    "                found = False\n",
    "                pattern = re.escape(anchor[index]) + u\"[а|ом]?\"\n",
    "                match = re.match(pattern, token, flags=re.U|re.L)\n",
    "        \n",
    "        if(not found and match is not None):\n",
    "            start = i\n",
    "            index += 1\n",
    "            found = True\n",
    "            \n",
    "        if(index == len(anchor)):\n",
    "            end = i + 1\n",
    "            yield range(start, end)\n",
    "            index = 0\n",
    "            found = False\n",
    "            \n",
    "\n",
    "\n",
    "def extract_from_tokens_by_range(tokens, r):\n",
    "    return ' '.join(tokens[r[0]:r[-1]+1])\n",
    "    \n",
    "detection = list(detect_anchor(tokens, tokenize_words(objectAnchor)))\n",
    "print extract_from_tokens_by_range(tokens, detection[0])"
   ]
  },
  {
   "cell_type": "code",
   "execution_count": 131,
   "metadata": {
    "collapsed": false
   },
   "outputs": [
    {
     "data": {
      "text/plain": [
       "[[50, 51]]"
      ]
     },
     "execution_count": 131,
     "metadata": {},
     "output_type": "execute_result"
    }
   ],
   "source": [
    "subjectAnchor = row['SubjectAnchor']\n",
    "detection = list(detect_anchor(tokens, tokenize_words(subjectAnchor)))\n",
    "detection"
   ]
  },
  {
   "cell_type": "code",
   "execution_count": 132,
   "metadata": {
    "collapsed": false
   },
   "outputs": [
    {
     "name": "stdout",
     "output_type": "stream",
     "text": [
      "Ярослав Мудрий\n"
     ]
    }
   ],
   "source": [
    "print extract_from_tokens_by_range(tokens, detection[0])"
   ]
  },
  {
   "cell_type": "code",
   "execution_count": 133,
   "metadata": {
    "collapsed": false
   },
   "outputs": [
    {
     "name": "stdout",
     "output_type": "stream",
     "text": [
      "Кім Чен Ин (нар. 1983) — син колишнього диктатора КНДР Кім Чен Іра, онук Кім Ір Сена\n",
      "Кім Чен Ин\n",
      "Кім Чен Іра\n"
     ]
    },
    {
     "data": {
      "text/plain": [
       "([[0, 1, 2]], [[13, 14, 15]])"
      ]
     },
     "execution_count": 133,
     "metadata": {},
     "output_type": "execute_result"
    }
   ],
   "source": [
    "def show_row_anchors_and_text(row, verbose=False):\n",
    "    text = row['Text']\n",
    "    if(verbose):\n",
    "        print text\n",
    "    tokens = tokenize_text(text)\n",
    "    tokens = [t for tt in tokens for sentence in tt for t in sentence]\n",
    "    detection1 = list(detect_anchor(tokens, tokenize_words(row['SubjectAnchor'])))\n",
    "    if(verbose):\n",
    "        for d in detection1:\n",
    "            print extract_from_tokens_by_range(tokens, d)\n",
    "    detection2 = list(detect_anchor(tokens, tokenize_words(row['ObjectAnchor'])))\n",
    "    if(verbose):\n",
    "        for d in detection2:\n",
    "            print extract_from_tokens_by_range(tokens, d)\n",
    "    return (detection1, detection2)\n",
    "        \n",
    "show_row_anchors_and_text(r.iloc[0], True)"
   ]
  },
  {
   "cell_type": "code",
   "execution_count": 134,
   "metadata": {
    "collapsed": false
   },
   "outputs": [
    {
     "name": "stdout",
     "output_type": "stream",
     "text": [
      "При ЧандрагуптіІ, внукові Шрі-Гупти, що правив в 320 — близько 340 і прийняв імператорський титул, почалося утворення держави Гуптів. Самудрагупта і Чандрагупта ІІ Вікрамадітья (правив близько 380–414) підкорили всю Північну Індію, крім Кашміру, Західного Пенджабу і Раджпутани.\n",
      "Чандрагупта ІІ\n",
      "Самудрагупта\n"
     ]
    },
    {
     "data": {
      "text/plain": [
       "([[27, 28]], [[25]])"
      ]
     },
     "execution_count": 134,
     "metadata": {},
     "output_type": "execute_result"
    }
   ],
   "source": [
    "show_row_anchors_and_text(r.iloc[1], True)"
   ]
  },
  {
   "cell_type": "code",
   "execution_count": 135,
   "metadata": {
    "collapsed": false
   },
   "outputs": [
    {
     "name": "stdout",
     "output_type": "stream",
     "text": [
      "Походив із середніх італійських прошарків; дід Тит Флавій Петрон служив центуріоном у Помпея, батько Тит Флавій Сабін — збирач податків в Азії.\n",
      "Тит Флавій Сабін\n",
      "Тит Флавій Петрон\n"
     ]
    },
    {
     "data": {
      "text/plain": [
       "([[16, 17, 18]], [[7, 8, 9]])"
      ]
     },
     "execution_count": 135,
     "metadata": {},
     "output_type": "execute_result"
    }
   ],
   "source": [
    "show_row_anchors_and_text(r.iloc[2], True)"
   ]
  },
  {
   "cell_type": "code",
   "execution_count": 136,
   "metadata": {
    "collapsed": false
   },
   "outputs": [],
   "source": [
    "positions = r.apply(show_row_anchors_and_text, axis=1)"
   ]
  },
  {
   "cell_type": "code",
   "execution_count": 143,
   "metadata": {
    "collapsed": false
   },
   "outputs": [
    {
     "data": {
      "text/plain": [
       "[834, 1303, 1960, 1960]"
      ]
     },
     "execution_count": 143,
     "metadata": {},
     "output_type": "execute_result"
    }
   ],
   "source": [
    "err = []\n",
    "for i in range(len(positions)):\n",
    "    try:\n",
    "        p = positions.iloc[i]\n",
    "    except:\n",
    "        err.append(i)\n",
    "    if(len(p[0]) == 0):\n",
    "        err.append(i)\n",
    "    if(len(p[1]) == 0):\n",
    "        err.append(i)\n",
    "err"
   ]
  },
  {
   "cell_type": "code",
   "execution_count": 146,
   "metadata": {
    "collapsed": false
   },
   "outputs": [
    {
     "data": {
      "text/plain": [
       "Object                                           Катерина Сенявська\n",
       "ObjectAnchor                                    Катерини Сенявської\n",
       "Predicate                                                      мати\n",
       "PredicateId                                                     P25\n",
       "Subject                                Прокоп Сенявський (хорунжий)\n",
       "SubjectAnchor                                   Прокопа Сенявського\n",
       "Text              Єдиний син надвірного коронного хорунжого Прок...\n",
       "WikipediaLink     https://uk.wikipedia.org/wiki/Велика Севастянівка\n",
       "WikipediaTitle                                  Велика Севастянівка\n",
       "_id                            aab548e5-7e34-4f59-8aae-664038bba262\n",
       "Answer                                                      donthas\n",
       "Name: 2049, dtype: object"
      ]
     },
     "execution_count": 146,
     "metadata": {},
     "output_type": "execute_result"
    }
   ],
   "source": [
    "r.iloc[1960]"
   ]
  },
  {
   "cell_type": "code",
   "execution_count": 148,
   "metadata": {
    "collapsed": false
   },
   "outputs": [
    {
     "name": "stdout",
     "output_type": "stream",
     "text": [
      "Єдиний син надвірного коронного хорунжого Прокопа Сенявського та його дружини Анни Єфросини Ходкевич, єдиний внук Адама Єроніма Сенявського (старшого) та Катерини Сенявської.\n"
     ]
    },
    {
     "data": {
      "text/plain": [
       "([], [])"
      ]
     },
     "execution_count": 148,
     "metadata": {},
     "output_type": "execute_result"
    }
   ],
   "source": [
    "show_row_anchors_and_text(r.iloc[1960],True)"
   ]
  },
  {
   "cell_type": "code",
   "execution_count": null,
   "metadata": {
    "collapsed": true
   },
   "outputs": [],
   "source": []
  }
 ],
 "metadata": {
  "kernelspec": {
   "display_name": "Python 2",
   "language": "python",
   "name": "python2"
  },
  "language_info": {
   "codemirror_mode": {
    "name": "ipython",
    "version": 2
   },
   "file_extension": ".py",
   "mimetype": "text/x-python",
   "name": "python",
   "nbconvert_exporter": "python",
   "pygments_lexer": "ipython2",
   "version": "2.7.12"
  }
 },
 "nbformat": 4,
 "nbformat_minor": 0
}
