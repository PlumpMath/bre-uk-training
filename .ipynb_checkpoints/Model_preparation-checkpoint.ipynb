{
 "cells": [
  {
   "cell_type": "code",
   "execution_count": 1,
   "metadata": {
    "collapsed": false
   },
   "outputs": [
    {
     "data": {
      "text/html": [
       "<div>\n",
       "<table border=\"1\" class=\"dataframe\">\n",
       "  <thead>\n",
       "    <tr style=\"text-align: right;\">\n",
       "      <th></th>\n",
       "      <th>Object</th>\n",
       "      <th>ObjectAnchor</th>\n",
       "      <th>Predicate</th>\n",
       "      <th>PredicateId</th>\n",
       "      <th>Subject</th>\n",
       "      <th>SubjectAnchor</th>\n",
       "      <th>Text</th>\n",
       "      <th>WikipediaLink</th>\n",
       "      <th>WikipediaTitle</th>\n",
       "      <th>_id</th>\n",
       "      <th>Answer</th>\n",
       "    </tr>\n",
       "  </thead>\n",
       "  <tbody>\n",
       "    <tr>\n",
       "      <th>0</th>\n",
       "      <td>Кім Чен Ір</td>\n",
       "      <td>Кім Чен Ір</td>\n",
       "      <td>батько</td>\n",
       "      <td>P22</td>\n",
       "      <td>Кім Чен Ин</td>\n",
       "      <td>Кім Чен Ин</td>\n",
       "      <td>Кім Чен Ин (нар. 1983) — син колишнього диктат...</td>\n",
       "      <td>https://uk.wikipedia.org/wiki/Кім</td>\n",
       "      <td>Кім</td>\n",
       "      <td>97e85e9c-5968-47d0-93e5-17a41114b50f</td>\n",
       "      <td>weak</td>\n",
       "    </tr>\n",
       "    <tr>\n",
       "      <th>1</th>\n",
       "      <td>Самудрагупта</td>\n",
       "      <td>Самудрагупта</td>\n",
       "      <td>батько</td>\n",
       "      <td>P22</td>\n",
       "      <td>Чандрагупта ІІ</td>\n",
       "      <td>Чандрагупта ІІ</td>\n",
       "      <td>При ЧандрагуптіІ, внукові Шрі-Гупти, що правив...</td>\n",
       "      <td>https://uk.wikipedia.org/wiki/Династія Гуптів</td>\n",
       "      <td>Династія Гуптів</td>\n",
       "      <td>613060fa-811c-463a-ab1c-712619568c66</td>\n",
       "      <td>has</td>\n",
       "    </tr>\n",
       "    <tr>\n",
       "      <th>2</th>\n",
       "      <td>Тит Флавій Петрон</td>\n",
       "      <td>Тит Флавій Петрон</td>\n",
       "      <td>батько</td>\n",
       "      <td>P22</td>\n",
       "      <td>Тит Флавій Сабін (батько Веспасіана)</td>\n",
       "      <td>Тит Флавій Сабін</td>\n",
       "      <td>Походив із середніх італійських прошарків; дід...</td>\n",
       "      <td>https://uk.wikipedia.org/wiki/Веспасіан</td>\n",
       "      <td>Веспасіан</td>\n",
       "      <td>a71ce5d2-63ea-45af-9ce7-959d3573d950</td>\n",
       "      <td>donthas</td>\n",
       "    </tr>\n",
       "    <tr>\n",
       "      <th>3</th>\n",
       "      <td>Шунь-цзун (династія Тан)</td>\n",
       "      <td>Шунь-цзуна</td>\n",
       "      <td>батько</td>\n",
       "      <td>P22</td>\n",
       "      <td>Сянь-цзун (династія Тан)</td>\n",
       "      <td>Сянь-цзун</td>\n",
       "      <td>У Китаї розпочалося коротке правління Шунь-цзу...</td>\n",
       "      <td>https://uk.wikipedia.org/wiki/805</td>\n",
       "      <td>805</td>\n",
       "      <td>8568c7e1-5e84-4541-a693-29acb5cfa056</td>\n",
       "      <td>not</td>\n",
       "    </tr>\n",
       "    <tr>\n",
       "      <th>4</th>\n",
       "      <td>Шунь-цзун (династія Тан)</td>\n",
       "      <td>Шунь-цзуна</td>\n",
       "      <td>батько</td>\n",
       "      <td>P22</td>\n",
       "      <td>Сянь-цзун (династія Тан)</td>\n",
       "      <td>Сянь-цзуна</td>\n",
       "      <td>Відомо, що працював за імператорів Шунь-цзуна ...</td>\n",
       "      <td>https://uk.wikipedia.org/wiki/Дай Сун</td>\n",
       "      <td>Дай Сун</td>\n",
       "      <td>2b8a672e-31cf-4fc8-9fd2-570e5eaf3def</td>\n",
       "      <td>weak</td>\n",
       "    </tr>\n",
       "  </tbody>\n",
       "</table>\n",
       "</div>"
      ],
      "text/plain": [
       "                     Object       ObjectAnchor Predicate PredicateId  \\\n",
       "0                Кім Чен Ір         Кім Чен Ір    батько         P22   \n",
       "1              Самудрагупта       Самудрагупта    батько         P22   \n",
       "2         Тит Флавій Петрон  Тит Флавій Петрон    батько         P22   \n",
       "3  Шунь-цзун (династія Тан)         Шунь-цзуна    батько         P22   \n",
       "4  Шунь-цзун (династія Тан)         Шунь-цзуна    батько         P22   \n",
       "\n",
       "                                Subject     SubjectAnchor  \\\n",
       "0                            Кім Чен Ин        Кім Чен Ин   \n",
       "1                        Чандрагупта ІІ    Чандрагупта ІІ   \n",
       "2  Тит Флавій Сабін (батько Веспасіана)  Тит Флавій Сабін   \n",
       "3              Сянь-цзун (династія Тан)         Сянь-цзун   \n",
       "4              Сянь-цзун (династія Тан)        Сянь-цзуна   \n",
       "\n",
       "                                                Text  \\\n",
       "0  Кім Чен Ин (нар. 1983) — син колишнього диктат...   \n",
       "1  При ЧандрагуптіІ, внукові Шрі-Гупти, що правив...   \n",
       "2  Походив із середніх італійських прошарків; дід...   \n",
       "3  У Китаї розпочалося коротке правління Шунь-цзу...   \n",
       "4  Відомо, що працював за імператорів Шунь-цзуна ...   \n",
       "\n",
       "                                   WikipediaLink   WikipediaTitle  \\\n",
       "0              https://uk.wikipedia.org/wiki/Кім              Кім   \n",
       "1  https://uk.wikipedia.org/wiki/Династія Гуптів  Династія Гуптів   \n",
       "2        https://uk.wikipedia.org/wiki/Веспасіан        Веспасіан   \n",
       "3              https://uk.wikipedia.org/wiki/805              805   \n",
       "4          https://uk.wikipedia.org/wiki/Дай Сун          Дай Сун   \n",
       "\n",
       "                                    _id   Answer  \n",
       "0  97e85e9c-5968-47d0-93e5-17a41114b50f     weak  \n",
       "1  613060fa-811c-463a-ab1c-712619568c66      has  \n",
       "2  a71ce5d2-63ea-45af-9ce7-959d3573d950  donthas  \n",
       "3  8568c7e1-5e84-4541-a693-29acb5cfa056      not  \n",
       "4  2b8a672e-31cf-4fc8-9fd2-570e5eaf3def     weak  "
      ]
     },
     "execution_count": 1,
     "metadata": {},
     "output_type": "execute_result"
    }
   ],
   "source": [
    "import pandas as pd\n",
    "r = pd.read_csv('result.csv')\n",
    "r.head()"
   ]
  },
  {
   "cell_type": "code",
   "execution_count": 2,
   "metadata": {
    "collapsed": false
   },
   "outputs": [
    {
     "data": {
      "text/plain": [
       "2234"
      ]
     },
     "execution_count": 2,
     "metadata": {},
     "output_type": "execute_result"
    }
   ],
   "source": [
    "r = r[r['Answer']!='not']\n",
    "len(r)"
   ]
  },
  {
   "cell_type": "code",
   "execution_count": 3,
   "metadata": {
    "collapsed": false
   },
   "outputs": [],
   "source": [
    "# tokenization\n",
    "# import sys\n",
    "# import os\n",
    "\n",
    "# tokenize_path = 'D:\\DRIVE\\MS CS UCU\\Machine Learning\\Project\\tokenize-uk\\tokenize_uk'\n",
    "# sys.path.append(tokenize_path)\n",
    "\n",
    "from tokenize_uk import *"
   ]
  },
  {
   "cell_type": "code",
   "execution_count": null,
   "metadata": {
    "collapsed": true
   },
   "outputs": [],
   "source": []
  }
 ],
 "metadata": {
  "kernelspec": {
   "display_name": "Python [py35]",
   "language": "python",
   "name": "Python [py35]"
  },
  "language_info": {
   "codemirror_mode": {
    "name": "ipython",
    "version": 3
   },
   "file_extension": ".py",
   "mimetype": "text/x-python",
   "name": "python",
   "nbconvert_exporter": "python",
   "pygments_lexer": "ipython3",
   "version": "3.5.2"
  }
 },
 "nbformat": 4,
 "nbformat_minor": 0
}
