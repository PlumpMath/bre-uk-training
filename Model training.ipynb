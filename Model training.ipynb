{
 "cells": [
  {
   "cell_type": "code",
   "execution_count": 26,
   "metadata": {
    "collapsed": false
   },
   "outputs": [
    {
     "data": {
      "text/plain": [
       "2527"
      ]
     },
     "execution_count": 26,
     "metadata": {},
     "output_type": "execute_result"
    }
   ],
   "source": [
    "# load prepared data\n",
    "import pandas as pd\n",
    "r = pd.read_csv('result.csv', encoding='utf8')\n",
    "r = r[r['Answer']!='not']\n",
    "len(r)"
   ]
  },
  {
   "cell_type": "code",
   "execution_count": 27,
   "metadata": {
    "collapsed": false
   },
   "outputs": [],
   "source": [
    "# import libs\n",
    "from tokenize_uk import *\n",
    "import os,sys\n",
    "mitie_path = os.environ['MITIE_HOME']\n",
    "sys.path.append(mitie_path)\n",
    "\n",
    "from mitie import *\n",
    "import itertools\n",
    "import re"
   ]
  },
  {
   "cell_type": "code",
   "execution_count": 28,
   "metadata": {
    "collapsed": true
   },
   "outputs": [],
   "source": [
    "# load previous models\n",
    "ner = named_entity_extractor(\"uk_model.dat\")\n",
    "trainer = binary_relation_detector_trainer(\"people.person.parents\", ner)"
   ]
  },
  {
   "cell_type": "code",
   "execution_count": 29,
   "metadata": {
    "collapsed": false
   },
   "outputs": [
    {
     "data": {
      "text/html": [
       "<div>\n",
       "<table border=\"1\" class=\"dataframe\">\n",
       "  <thead>\n",
       "    <tr style=\"text-align: right;\">\n",
       "      <th></th>\n",
       "      <th>Text</th>\n",
       "      <th>Subjects</th>\n",
       "      <th>Objects</th>\n",
       "      <th>Answer</th>\n",
       "      <th>Predicate</th>\n",
       "    </tr>\n",
       "  </thead>\n",
       "  <tbody>\n",
       "    <tr>\n",
       "      <th>0</th>\n",
       "      <td>[Кім, Чен, Ин, (, нар, ., 1983, ), —, син, кол...</td>\n",
       "      <td>[[0, 1, 2]]</td>\n",
       "      <td>[[13, 14, 15]]</td>\n",
       "      <td>1</td>\n",
       "      <td>1</td>\n",
       "    </tr>\n",
       "    <tr>\n",
       "      <th>1</th>\n",
       "      <td>[При, ЧандрагуптіІ, ,, внукові, Шрі, -, Гупти,...</td>\n",
       "      <td>[[27, 28]]</td>\n",
       "      <td>[[25]]</td>\n",
       "      <td>1</td>\n",
       "      <td>1</td>\n",
       "    </tr>\n",
       "    <tr>\n",
       "      <th>2</th>\n",
       "      <td>[Походив, із, середніх, італійських, прошарків...</td>\n",
       "      <td>[[16, 17, 18]]</td>\n",
       "      <td>[[7, 8, 9]]</td>\n",
       "      <td>0</td>\n",
       "      <td>1</td>\n",
       "    </tr>\n",
       "    <tr>\n",
       "      <th>3</th>\n",
       "      <td>[Відомо, ,, що, працював, за, імператорів, Шун...</td>\n",
       "      <td>[[10, 11, 12]]</td>\n",
       "      <td>[[6, 7, 8]]</td>\n",
       "      <td>1</td>\n",
       "      <td>1</td>\n",
       "    </tr>\n",
       "    <tr>\n",
       "      <th>4</th>\n",
       "      <td>[Коли, ж, ,, наступного, року, ,, його, здоров...</td>\n",
       "      <td>[[36, 37]]</td>\n",
       "      <td>[[11, 12]]</td>\n",
       "      <td>1</td>\n",
       "      <td>1</td>\n",
       "    </tr>\n",
       "  </tbody>\n",
       "</table>\n",
       "</div>"
      ],
      "text/plain": [
       "                                                Text        Subjects  \\\n",
       "0  [Кім, Чен, Ин, (, нар, ., 1983, ), —, син, кол...     [[0, 1, 2]]   \n",
       "1  [При, ЧандрагуптіІ, ,, внукові, Шрі, -, Гупти,...      [[27, 28]]   \n",
       "2  [Походив, із, середніх, італійських, прошарків...  [[16, 17, 18]]   \n",
       "3  [Відомо, ,, що, працював, за, імператорів, Шун...  [[10, 11, 12]]   \n",
       "4  [Коли, ж, ,, наступного, року, ,, його, здоров...      [[36, 37]]   \n",
       "\n",
       "          Objects  Answer  Predicate  \n",
       "0  [[13, 14, 15]]       1          1  \n",
       "1          [[25]]       1          1  \n",
       "2     [[7, 8, 9]]       0          1  \n",
       "3     [[6, 7, 8]]       1          1  \n",
       "4      [[11, 12]]       1          1  "
      ]
     },
     "execution_count": 29,
     "metadata": {},
     "output_type": "execute_result"
    }
   ],
   "source": [
    "# tokenize texts and find anchors\n",
    "def detect_anchor(tokens, anchor):\n",
    "    found = False\n",
    "    index = 0\n",
    "    for i in range(len(tokens)):\n",
    "        token = tokens[i]\n",
    "        pattern = re.escape(anchor[index]) + u\"[а|ом]?\"\n",
    "        match = re.match(pattern, token, flags=re.U|re.L)\n",
    "        \n",
    "        if(found):\n",
    "            if(match is not None):\n",
    "                index += 1\n",
    "            else:\n",
    "                index = 0\n",
    "                found = False\n",
    "                pattern = re.escape(anchor[index]) + u\"[а|ом]?\"\n",
    "                match = re.match(pattern, token, flags=re.U|re.L)\n",
    "        \n",
    "        if(not found and match is not None):\n",
    "            start = i\n",
    "            index += 1\n",
    "            found = True\n",
    "            \n",
    "        if(index == len(anchor)):\n",
    "            end = i + 1\n",
    "            yield range(start, end)\n",
    "            index = 0\n",
    "            found = False\n",
    "            \n",
    "def extract_from_tokens_by_range(tokens, r):\n",
    "    return ' '.join(tokens[r[0]:r[-1]+1])\n",
    "\n",
    "def convert_answer(answer):\n",
    "    if(answer=='has' or answer=='weak'):\n",
    "        return 1\n",
    "    else:\n",
    "        return 0\n",
    "    \n",
    "def convert_predicate(p):\n",
    "    if(p=='P22'):\n",
    "        return 1\n",
    "    else:\n",
    "        return 0\n",
    "    \n",
    "def prepare_row(row, verbose=False):\n",
    "    text = row['Text']\n",
    "    if(verbose):\n",
    "        print text\n",
    "    tokens = tokenize_text(text)\n",
    "    tokens = [t for tt in tokens for sentence in tt for t in sentence]\n",
    "    detection1 = list(detect_anchor(tokens, tokenize_words(row['SubjectAnchor'])))\n",
    "    if(verbose):\n",
    "        for d in detection1:\n",
    "            print extract_from_tokens_by_range(tokens, d)\n",
    "    detection2 = list(detect_anchor(tokens, tokenize_words(row['ObjectAnchor'])))\n",
    "    if(verbose):\n",
    "        for d in detection2:\n",
    "            print extract_from_tokens_by_range(tokens, d)\n",
    "            \n",
    "    return (tokens, detection1, detection2, convert_answer(row['Answer']), convert_predicate(row['PredicateId']))\n",
    "\n",
    "df = pd.DataFrame(list(r.apply(prepare_row,axis=1)), columns=['Text','Subjects','Objects','Answer', 'Predicate'])\n",
    "df.head()"
   ]
  },
  {
   "cell_type": "code",
   "execution_count": 30,
   "metadata": {
    "collapsed": false
   },
   "outputs": [],
   "source": [
    "# remove invalid values\n",
    "correct = df.apply(lambda row: len(row['Subjects']) > 0 and len(row['Objects']) > 0, axis=1)\n",
    "df = df[correct]"
   ]
  },
  {
   "cell_type": "code",
   "execution_count": 31,
   "metadata": {
    "collapsed": false
   },
   "outputs": [
    {
     "name": "stderr",
     "output_type": "stream",
     "text": [
      "C:\\Users\\Anatoliy\\Anaconda2\\lib\\site-packages\\ipykernel\\__main__.py:9: SettingWithCopyWarning: \n",
      "A value is trying to be set on a copy of a slice from a DataFrame\n",
      "\n",
      "See the caveats in the documentation: http://pandas.pydata.org/pandas-docs/stable/indexing.html#indexing-view-versus-copy\n"
     ]
    },
    {
     "data": {
      "text/html": [
       "<div>\n",
       "<table border=\"1\" class=\"dataframe\">\n",
       "  <thead>\n",
       "    <tr style=\"text-align: right;\">\n",
       "      <th></th>\n",
       "      <th>Text</th>\n",
       "      <th>Subjects</th>\n",
       "      <th>Objects</th>\n",
       "      <th>Answer</th>\n",
       "      <th>Predicate</th>\n",
       "    </tr>\n",
       "  </thead>\n",
       "  <tbody>\n",
       "    <tr>\n",
       "      <th>0</th>\n",
       "      <td>[Кім, Чен, Ин, (, нар, ., 1983, ), —, син, кол...</td>\n",
       "      <td>[0, 1, 2]</td>\n",
       "      <td>[13, 14, 15]</td>\n",
       "      <td>1</td>\n",
       "      <td>1</td>\n",
       "    </tr>\n",
       "    <tr>\n",
       "      <th>1</th>\n",
       "      <td>[При, ЧандрагуптіІ, ,, внукові, Шрі, -, Гупти,...</td>\n",
       "      <td>[27, 28]</td>\n",
       "      <td>[25]</td>\n",
       "      <td>1</td>\n",
       "      <td>1</td>\n",
       "    </tr>\n",
       "    <tr>\n",
       "      <th>2</th>\n",
       "      <td>[Походив, із, середніх, італійських, прошарків...</td>\n",
       "      <td>[16, 17, 18]</td>\n",
       "      <td>[7, 8, 9]</td>\n",
       "      <td>0</td>\n",
       "      <td>1</td>\n",
       "    </tr>\n",
       "    <tr>\n",
       "      <th>3</th>\n",
       "      <td>[Відомо, ,, що, працював, за, імператорів, Шун...</td>\n",
       "      <td>[10, 11, 12]</td>\n",
       "      <td>[6, 7, 8]</td>\n",
       "      <td>1</td>\n",
       "      <td>1</td>\n",
       "    </tr>\n",
       "    <tr>\n",
       "      <th>4</th>\n",
       "      <td>[Коли, ж, ,, наступного, року, ,, його, здоров...</td>\n",
       "      <td>[36, 37]</td>\n",
       "      <td>[11, 12]</td>\n",
       "      <td>1</td>\n",
       "      <td>1</td>\n",
       "    </tr>\n",
       "  </tbody>\n",
       "</table>\n",
       "</div>"
      ],
      "text/plain": [
       "                                                Text      Subjects  \\\n",
       "0  [Кім, Чен, Ин, (, нар, ., 1983, ), —, син, кол...     [0, 1, 2]   \n",
       "1  [При, ЧандрагуптіІ, ,, внукові, Шрі, -, Гупти,...      [27, 28]   \n",
       "2  [Походив, із, середніх, італійських, прошарків...  [16, 17, 18]   \n",
       "3  [Відомо, ,, що, працював, за, імператорів, Шун...  [10, 11, 12]   \n",
       "4  [Коли, ж, ,, наступного, року, ,, його, здоров...      [36, 37]   \n",
       "\n",
       "        Objects  Answer  Predicate  \n",
       "0  [13, 14, 15]       1          1  \n",
       "1          [25]       1          1  \n",
       "2     [7, 8, 9]       0          1  \n",
       "3     [6, 7, 8]       1          1  \n",
       "4      [11, 12]       1          1  "
      ]
     },
     "execution_count": 31,
     "metadata": {},
     "output_type": "execute_result"
    }
   ],
   "source": [
    "# flatten subjects and objects to one value per row\n",
    "def unstack_column(df, col):\n",
    "    indicies = df.index\n",
    "    for i in indicies:\n",
    "        row = df.loc[i]\n",
    "        val = row[col]\n",
    "        while(len(val) > 1):\n",
    "            v = val.pop(1)\n",
    "            row[col] = v\n",
    "            df.loc[df.index.max() + 1] = list(row)\n",
    "            #print v\n",
    "        \n",
    "        #print val[0] \n",
    "        df.set_value(i, col, val[0])\n",
    "        \n",
    "        \n",
    "unstack_column(df, 'Subjects')\n",
    "unstack_column(df, 'Objects')\n",
    "df.head(5)"
   ]
  },
  {
   "cell_type": "code",
   "execution_count": 32,
   "metadata": {
    "collapsed": true
   },
   "outputs": [],
   "source": [
    "# remove entries with overlapping entities\n",
    "def no_range_overlaps(r1, r2):\n",
    "    return max(r1) < min(r2) or max(r2) < min(r1)\n",
    "\n",
    "no_overlap = df.apply(lambda row: no_range_overlaps(row['Subjects'], row['Objects']), axis=1)\n",
    "df = df[no_overlap]"
   ]
  },
  {
   "cell_type": "code",
   "execution_count": 57,
   "metadata": {
    "collapsed": false
   },
   "outputs": [
    {
     "data": {
      "text/plain": [
       "2925"
      ]
     },
     "execution_count": 57,
     "metadata": {},
     "output_type": "execute_result"
    }
   ],
   "source": [
    "len(df)"
   ]
  },
  {
   "cell_type": "code",
   "execution_count": 33,
   "metadata": {
    "collapsed": false
   },
   "outputs": [],
   "source": [
    "# get test split\n",
    "from sklearn.model_selection import StratifiedKFold\n",
    "\n",
    "X = df[['Predicate']]\n",
    "y = df['Answer']\n",
    "\n",
    "state = 42\n",
    "test_split = StratifiedKFold(n_splits=4, shuffle=True, random_state=state).split(X, y).next() # golden set\n",
    "test_i = test_split[1]\n",
    "train_i = test_split[0]"
   ]
  },
  {
   "cell_type": "code",
   "execution_count": 34,
   "metadata": {
    "collapsed": false
   },
   "outputs": [],
   "source": [
    "# mitie trainig function\n",
    "def train_mitie_model(X, y, train_index):\n",
    "    for i in train_index:\n",
    "        \n",
    "        subject_position = X.iloc[i]['Subjects']\n",
    "        object_position = X.iloc[i]['Objects']\n",
    "        text = X.iloc[i]['Text']\n",
    "\n",
    "        if(y.iloc[i]==1):\n",
    "            trainer.add_positive_binary_relation(text, subject_position, object_position)\n",
    "            trainer.add_negative_binary_relation(text, object_position, subject_position)\n",
    "        else:\n",
    "            trainer.add_negative_binary_relation(text, subject_position, object_position)\n",
    "    return trainer.train()\n",
    "\n",
    "mitie_model = train_mitie_model(df, df['Answer'], train_i)"
   ]
  },
  {
   "cell_type": "code",
   "execution_count": 35,
   "metadata": {
    "collapsed": false
   },
   "outputs": [
    {
     "data": {
      "text/plain": [
       "LogisticRegression(C=1.0, class_weight=None, dual=False, fit_intercept=True,\n",
       "          intercept_scaling=1, max_iter=100, multi_class='ovr', n_jobs=1,\n",
       "          penalty='l2', random_state=42, solver='liblinear', tol=0.0001,\n",
       "          verbose=0, warm_start=False)"
      ]
     },
     "execution_count": 35,
     "metadata": {},
     "output_type": "execute_result"
    }
   ],
   "source": [
    "# logistic regression trainig function\n",
    "from sklearn.linear_model import LogisticRegression\n",
    "import numpy as np\n",
    "\n",
    "def mitie_predict(model, text, subj, obj):\n",
    "    rel = ner.extract_binary_relation(text, subj, obj)\n",
    "    return model(rel)\n",
    "\n",
    "def train_logreg_model(mitie_model, X, y, train_index):\n",
    "    logreg_x = X.iloc[train_index].apply(lambda row: mitie_predict(mitie_model, row['Text'], row['Subjects'], row['Objects']), axis=1)\n",
    "    model = LogisticRegression(random_state=state)\n",
    "    logreg_x = np.array(logreg_x).reshape((len(logreg_x), 1))\n",
    "    logreg_y = np.array(y.iloc[train_index])\n",
    "    model.fit(logreg_x, logreg_y)\n",
    "    return model\n",
    "\n",
    "logreg_model = train_logreg_model(mitie_model, df, y, train_i)\n",
    "logreg_model"
   ]
  },
  {
   "cell_type": "code",
   "execution_count": 48,
   "metadata": {
    "collapsed": false
   },
   "outputs": [
    {
     "name": "stdout",
     "output_type": "stream",
     "text": [
      "PR AUC: 0.629195941433\n",
      "Recall: 0.665127020785\n",
      "Precision: 0.606315789474\n",
      "F1: 0.63436123348\n"
     ]
    }
   ],
   "source": [
    "# testing\n",
    "from sklearn.metrics import average_precision_score, recall_score, f1_score, precision_score\n",
    "\n",
    "logreg_x = df.iloc[test_i].apply(lambda row: mitie_predict(mitie_model, row['Text'], row['Subjects'], row['Objects']), axis=1)\n",
    "logreg_x = np.array(logreg_x).reshape((len(logreg_x), 1))\n",
    "y_pred_proba = logreg_model.predict_proba(logreg_x)[:,1]\n",
    "y_pred = logreg_model.predict(logreg_x)\n",
    "y_true = np.array(y.iloc[test_i].astype(float))\n",
    "\n",
    "print \"PR AUC: \" + str(average_precision_score(y_true, y_pred_proba))\n",
    "print \"Recall: \" + str(recall_score(y_true, y_pred))\n",
    "print \"Precision: \" + str(precision_score(y_true, y_pred))\n",
    "print \"F1: \" + str(f1_score(y_true, y_pred))"
   ]
  },
  {
   "cell_type": "code",
   "execution_count": 49,
   "metadata": {
    "collapsed": false
   },
   "outputs": [
    {
     "data": {
      "image/png": "[encoded data removed]",
      "text/plain": [
       "<matplotlib.figure.Figure at 0x309afd30>"
      ]
     },
     "metadata": {},
     "output_type": "display_data"
    }
   ],
   "source": [
    "# plot PR curve\n",
    "from sklearn.metrics import precision_recall_curve\n",
    "import matplotlib.pyplot as plt\n",
    "%matplotlib inline\n",
    "import matplotlib\n",
    "matplotlib.rcParams['figure.figsize'] = (10,10)\n",
    "from itertools import cycle\n",
    "\n",
    "precision, recall, _ = precision_recall_curve(y_true, y_pred)\n",
    "\n",
    "# setup plot details\n",
    "colors = cycle(['navy', 'turquoise', 'darkorange', 'cornflowerblue', 'teal'])\n",
    "lw = 2\n",
    "\n",
    "# Plot Precision-Recall curve\n",
    "plt.clf()\n",
    "plt.plot(recall, precision, lw=lw, color='navy',\n",
    "         label='Precision-Recall curve')\n",
    "plt.xlabel('Recall')\n",
    "plt.ylabel('Precision')\n",
    "plt.ylim([0.0, 1.05])\n",
    "plt.xlim([0.0, 1.0])\n",
    "plt.title('Precision-Recall example: AUC={0:0.2f}'.format(average_precision_score(y_true, y_pred_proba)))\n",
    "plt.legend(loc=\"lower left\")\n",
    "plt.show()"
   ]
  },
  {
   "cell_type": "code",
   "execution_count": 38,
   "metadata": {
    "collapsed": true
   },
   "outputs": [],
   "source": [
    "mitie_model.save_to_disk(\"people.person.parents.svm\")"
   ]
  },
  {
   "cell_type": "code",
   "execution_count": 56,
   "metadata": {
    "collapsed": false
   },
   "outputs": [
    {
     "name": "stdout",
     "output_type": "stream",
     "text": [
      "PR AUC: 0.629195941433\n",
      "Recall: 0.829099307159\n",
      "Precision: 0.604377104377\n",
      "F1: 0.699123661149\n"
     ]
    }
   ],
   "source": [
    "threshold = 0.2\n",
    "y_pred_t = map(lambda y: 1.0 if y > threshold else 0.0, y_pred_proba)\n",
    "\n",
    "\n",
    "print \"PR AUC: \" + str(average_precision_score(y_true, y_pred_proba))\n",
    "print \"Recall: \" + str(recall_score(y_true, y_pred_t))\n",
    "print \"Precision: \" + str(precision_score(y_true, y_pred_t))\n",
    "print \"F1: \" + str(f1_score(y_true, y_pred_t))"
   ]
  },
  {
   "cell_type": "code",
   "execution_count": null,
   "metadata": {
    "collapsed": true
   },
   "outputs": [],
   "source": []
  }
 ],
 "metadata": {
  "kernelspec": {
   "display_name": "Python 2",
   "language": "python",
   "name": "python2"
  },
  "language_info": {
   "codemirror_mode": {
    "name": "ipython",
    "version": 2
   },
   "file_extension": ".py",
   "mimetype": "text/x-python",
   "name": "python",
   "nbconvert_exporter": "python",
   "pygments_lexer": "ipython2",
   "version": "2.7.12"
  }
 },
 "nbformat": 4,
 "nbformat_minor": 0
}
